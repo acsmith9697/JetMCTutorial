{
 "cells": [
  {
   "cell_type": "markdown",
   "metadata": {},
   "source": [
    "# Jet Monte Carlo Exercises"
   ]
  },
  {
   "cell_type": "markdown",
   "metadata": {},
   "source": [
    "1. Random Number Generator"
   ]
  },
  {
   "cell_type": "code",
   "execution_count": 16,
   "metadata": {},
   "outputs": [],
   "source": [
    "import numpy as np\n",
    "import matplotlib.pyplot as plt"
   ]
  },
  {
   "cell_type": "code",
   "execution_count": 3,
   "metadata": {},
   "outputs": [],
   "source": [
    "from random import random"
   ]
  },
  {
   "cell_type": "code",
   "execution_count": 353,
   "metadata": {},
   "outputs": [],
   "source": [
    "def gen_uniform_histogram(N,lower_bound = 0,upper_bound = 1):\n",
    "    \"\"\"\n",
    "    Generate histogram of N values drawn from uniform distribution in specified range\n",
    "        INPUT: N - number of entries\n",
    "               lower_bound - lower bound of distribution\n",
    "               upper_bound - upper bound of distribution\n",
    "               \n",
    "        OUTPUT: None\n",
    "    \n",
    "    \"\"\"\n",
    "    values = [random()*(upper_bound - lower_bound)  + lower_bound for x in range(N)]\n",
    "    plt.hist(values)\n",
    "    \n",
    "def gen_uniform_samples(N,lower_bound = 0,upper_bound = 1):\n",
    "    \"\"\"\n",
    "    Generate set of N values drawn from uniform distribution in specified range\n",
    "        INPUT: N - number of entries\n",
    "               lower_bound - lower bound of distribution\n",
    "               upper_bound - upper bound of distribution\n",
    "               \n",
    "        OUTPUT: None\n",
    "    \n",
    "    \"\"\"\n",
    "    values = [random()*(upper_bound - lower_bound)  + lower_bound for x in range(N)]\n",
    "    return(values)"
   ]
  },
  {
   "cell_type": "code",
   "execution_count": 336,
   "metadata": {},
   "outputs": [
    {
     "data": {
      "image/png": "[encoded data removed]",
      "text/plain": [
       "<matplotlib.figure.Figure at 0x5fdd8390>"
      ]
     },
     "metadata": {},
     "output_type": "display_data"
    }
   ],
   "source": [
    "gen_uniform_histogram(1000,-1/exp(5),-1)"
   ]
  },
  {
   "cell_type": "code",
   "execution_count": 29,
   "metadata": {
    "scrolled": true
   },
   "outputs": [
    {
     "data": {
      "image/png": "[encoded data removed]",
      "text/plain": [
       "<matplotlib.figure.Figure at 0x882a828>"
      ]
     },
     "metadata": {},
     "output_type": "display_data"
    }
   ],
   "source": [
    "gen_uniform_histogram(1000,5,15)"
   ]
  },
  {
   "cell_type": "markdown",
   "metadata": {},
   "source": [
    "2: Pi Calculation"
   ]
  },
  {
   "cell_type": "code",
   "execution_count": 119,
   "metadata": {},
   "outputs": [],
   "source": [
    "def calculate_pi(N_darts):\n",
    "    \n",
    "    N_in_circle = 0\n",
    "    \n",
    "    throws = [(random() - .5,random() - .5) for throw in range(N_darts)]\n",
    "    for dart in throws:\n",
    "        x_position,y_position = dart\n",
    "        if (x_position**2 + y_position**2)**.5 <= .5:\n",
    "            N_in_circle += 1\n",
    "    #print (4.0*N_in_circle/N_darts)        \n",
    "    return 4.0*N_in_circle/N_darts\n",
    "    "
   ]
  },
  {
   "cell_type": "code",
   "execution_count": null,
   "metadata": {},
   "outputs": [],
   "source": [
    "pi_guesses = [calculate_pi(100000) for x in range(100000)]\n",
    "plt.hist(pi_guesses)"
   ]
  },
  {
   "cell_type": "code",
   "execution_count": 196,
   "metadata": {},
   "outputs": [
    {
     "data": {
      "text/plain": [
       "0.36"
      ]
     },
     "execution_count": 196,
     "metadata": {},
     "output_type": "execute_result"
    },
    {
     "name": "stdout",
     "output_type": "stream",
     "text": [
      "\n"
     ]
    }
   ],
   "source": [
    ".48**2 +.36**2"
   ]
  },
  {
   "cell_type": "markdown",
   "metadata": {},
   "source": [
    "##### 3: Inverse transform Method"
   ]
  },
  {
   "cell_type": "code",
   "execution_count": 197,
   "metadata": {},
   "outputs": [],
   "source": [
    "from math import exp,pi,sqrt"
   ]
  },
  {
   "cell_type": "markdown",
   "metadata": {},
   "source": [
    "So, I'm gonna need to invert the CDF of the normal distribution... ill use a taylor expansion from wikipedia and then generate a random number x, and then search for $ y$ such that $CDF(y) = x$ numerically."
   ]
  },
  {
   "cell_type": "code",
   "execution_count": 324,
   "metadata": {},
   "outputs": [],
   "source": [
    "def normal_dist(x,mu,std):\n",
    "    \n",
    "    return (1.0/(std*sqrt(2*pi)))*exp((.5/std**2)*(-(x - mu)**2))\n",
    "\n",
    "def Simpsons_method(f,lower,upper,mu,std,delta_x):\n",
    "    integral = []\n",
    "    total_area = 0\n",
    "    i = 0\n",
    "    \n",
    "    x_vals = np.linspace(lower,upper,int((upper-lower)/delta_x))\n",
    "    y_vals = [f(x,mu,std) for x in x_vals]\n",
    "    #print(len(x_vals))\n",
    "    #print(len(y_vals))\n",
    "    plt.plot(x_vals,y_vals)\n",
    "    \n",
    "    while i < len(x_vals) - 7:\n",
    "        y0,y1,y2,y3,y4,y5,y6 = y_vals[i:i+7]\n",
    "        \n",
    "        area = (delta_x/3)*(y0 + 4*(y1 + y3 + y5) + 2*(y2 + y4) + y6)\n",
    "        total_area += area\n",
    "        integral.append((x_vals[i+6],total_area))\n",
    "        i+=6\n",
    "    \n",
    "    return integral\n",
    "        \n",
    "    \n",
    "    \n"
   ]
  },
  {
   "cell_type": "code",
   "execution_count": 325,
   "metadata": {
    "scrolled": true
   },
   "outputs": [
    {
     "data": {
      "text/plain": [
       "[<matplotlib.lines.Line2D at 0xe981438>]"
      ]
     },
     "execution_count": 325,
     "metadata": {},
     "output_type": "execute_result"
    },
    {
     "data": {
      "image/png": "[encoded data removed]",
      "text/plain": [
       "<matplotlib.figure.Figure at 0x120c7a20>"
      ]
     },
     "metadata": {},
     "output_type": "display_data"
    }
   ],
   "source": [
    "CDF = Simpsons_method(normal_dist,0,10,5,2,.001)\n",
    "#print CDF\n",
    "x,y = zip(*CDF)\n",
    "#print(x,y)\n",
    "plt.plot(x,y)\n",
    "\n"
   ]
  },
  {
   "cell_type": "code",
   "execution_count": 258,
   "metadata": {},
   "outputs": [],
   "source": [
    "def find_inverse(f,x0,tol = .001):\n",
    "    f.reverse\n",
    "    for x,f_x in f:\n",
    "        if abs(x0 - f_x) < tol:\n",
    "            return x\n",
    "    \n",
    "    return \"failed\"\n",
    "    \n",
    "    \n",
    "    \n",
    "    \n",
    "    \n",
    "    "
   ]
  },
  {
   "cell_type": "code",
   "execution_count": 328,
   "metadata": {},
   "outputs": [
    {
     "data": {
      "text/plain": [
       "(array([0.02072927, 0.01122414, 0.01476328, 0.01526887, 0.01344874,\n",
       "        0.01628006, 0.02042591, 0.02335834, 0.02072927, 0.02568407,\n",
       "        0.02548183, 0.03013327, 0.0369082 , 0.0374138 , 0.04064958,\n",
       "        0.04803123, 0.0522782 , 0.05248043, 0.05713188, 0.06117661,\n",
       "        0.06289563, 0.07149069, 0.08595061, 0.07968127, 0.08605173,\n",
       "        0.09788258, 0.0968714 , 0.11618501, 0.12174652, 0.11598277,\n",
       "        0.12943151, 0.13711651, 0.12447671, 0.14358808, 0.15036301,\n",
       "        0.14672275, 0.16077821, 0.16674419, 0.16654195, 0.18181083,\n",
       "        0.17827168, 0.17958622, 0.18747346, 0.1921249 , 0.18777681,\n",
       "        0.19849536, 0.19960766, 0.19030477, 0.20678706, 0.20840496,\n",
       "        0.19637187, 0.21528101, 0.20800049, 0.19627075, 0.20294457,\n",
       "        0.1998099 , 0.17908063, 0.19303497, 0.18595668, 0.17028333,\n",
       "        0.18009182, 0.17018222, 0.15653124, 0.16320505, 0.15885696,\n",
       "        0.15005966, 0.14500374, 0.14227355, 0.12457783, 0.1304427 ,\n",
       "        0.12093757, 0.10647764, 0.1117358 , 0.10253403, 0.09050094,\n",
       "        0.09141101, 0.08372601, 0.07634437, 0.07361417, 0.07240075,\n",
       "        0.06239003, 0.05864865, 0.05824418, 0.04752563, 0.04489656,\n",
       "        0.04014399, 0.03711044, 0.03549255, 0.03013327, 0.02821202,\n",
       "        0.02790867, 0.02265051, 0.02002144, 0.01931361, 0.01526887,\n",
       "        0.01425769, 0.0126398 , 0.01334762, 0.01162861, 0.00748276]),\n",
       " array([6.00060006e-03, 1.06000600e-01, 2.06000600e-01, 3.06000600e-01,\n",
       "        4.06000600e-01, 5.06000600e-01, 6.06000600e-01, 7.06000600e-01,\n",
       "        8.06000600e-01, 9.06000600e-01, 1.00600060e+00, 1.10600060e+00,\n",
       "        1.20600060e+00, 1.30600060e+00, 1.40600060e+00, 1.50600060e+00,\n",
       "        1.60600060e+00, 1.70600060e+00, 1.80600060e+00, 1.90600060e+00,\n",
       "        2.00600060e+00, 2.10600060e+00, 2.20600060e+00, 2.30600060e+00,\n",
       "        2.40600060e+00, 2.50600060e+00, 2.60600060e+00, 2.70600060e+00,\n",
       "        2.80600060e+00, 2.90600060e+00, 3.00600060e+00, 3.10600060e+00,\n",
       "        3.20600060e+00, 3.30600060e+00, 3.40600060e+00, 3.50600060e+00,\n",
       "        3.60600060e+00, 3.70600060e+00, 3.80600060e+00, 3.90600060e+00,\n",
       "        4.00600060e+00, 4.10600060e+00, 4.20600060e+00, 4.30600060e+00,\n",
       "        4.40600060e+00, 4.50600060e+00, 4.60600060e+00, 4.70600060e+00,\n",
       "        4.80600060e+00, 4.90600060e+00, 5.00600060e+00, 5.10600060e+00,\n",
       "        5.20600060e+00, 5.30600060e+00, 5.40600060e+00, 5.50600060e+00,\n",
       "        5.60600060e+00, 5.70600060e+00, 5.80600060e+00, 5.90600060e+00,\n",
       "        6.00600060e+00, 6.10600060e+00, 6.20600060e+00, 6.30600060e+00,\n",
       "        6.40600060e+00, 6.50600060e+00, 6.60600060e+00, 6.70600060e+00,\n",
       "        6.80600060e+00, 6.90600060e+00, 7.00600060e+00, 7.10600060e+00,\n",
       "        7.20600060e+00, 7.30600060e+00, 7.40600060e+00, 7.50600060e+00,\n",
       "        7.60600060e+00, 7.70600060e+00, 7.80600060e+00, 7.90600060e+00,\n",
       "        8.00600060e+00, 8.10600060e+00, 8.20600060e+00, 8.30600060e+00,\n",
       "        8.40600060e+00, 8.50600060e+00, 8.60600060e+00, 8.70600060e+00,\n",
       "        8.80600060e+00, 8.90600060e+00, 9.00600060e+00, 9.10600060e+00,\n",
       "        9.20600060e+00, 9.30600060e+00, 9.40600060e+00, 9.50600060e+00,\n",
       "        9.60600060e+00, 9.70600060e+00, 9.80600060e+00, 9.90600060e+00,\n",
       "        1.00060006e+01]),\n",
       " <a list of 100 Patch objects>)"
      ]
     },
     "execution_count": 328,
     "metadata": {},
     "output_type": "execute_result"
    },
    {
     "data": {
      "image/png": "[encoded data removed]",
      "text/plain": [
       "<matplotlib.figure.Figure at 0x60376400>"
      ]
     },
     "metadata": {},
     "output_type": "display_data"
    }
   ],
   "source": [
    "CDF = Simpsons_method(normal_dist,0,10,5,2,.001)\n",
    "#print CDF\n",
    "#x,y = zip(*CDF)\n",
    "#print(x,y)\n",
    "#plt.plot(x,y)\n",
    "\n",
    "inverses = []\n",
    "for i in range(100000): \n",
    "    x = random()\n",
    "    #print(CDF)\n",
    "    inverse = find_inverse(CDF,x)\n",
    "    if type(inverse) != str:\n",
    "        inverses.append(inverse)\n",
    "\n",
    "plt.hist(inverses,bins=np.arange(min(inverses),max(inverses) + .1,.1),normed = True)\n",
    "#print \"CDF^-1$(x) guess: \", inverse\n",
    "#print \"x: \", x\n",
    "#print \"CDF(x): \", CDF"
   ]
  },
  {
   "cell_type": "code",
   "execution_count": 264,
   "metadata": {},
   "outputs": [
    {
     "data": {
      "text/plain": [
       "(9.990999099909992, 0.9874025887994902)"
      ]
     },
     "execution_count": 264,
     "metadata": {},
     "output_type": "execute_result"
    }
   ],
   "source": [
    "CDF[1]"
   ]
  },
  {
   "cell_type": "markdown",
   "metadata": {},
   "source": [
    "# That Part Was Gross. Now let's do $e^{-x}$,and let's  do it cleanly. "
   ]
  },
  {
   "cell_type": "markdown",
   "metadata": {},
   "source": [
    "Okeydoke so $\\textrm{CDF}(x) = \\int_a^b e^{-x}dx =  -e^{-x}$. so $[\\textrm{CDF}(0),\\textrm{CDF}(5)] = [-1,-\\frac{1}{e^5}]$. Also $\\textrm{CDF}^{-1}(x) = -\\ln(-x)$.\n",
    "\n",
    "First Method:\n",
    "\n"
   ]
  },
  {
   "cell_type": "code",
   "execution_count": 341,
   "metadata": {},
   "outputs": [
    {
     "data": {
      "image/png": "[encoded data removed]",
      "text/plain": [
       "<matplotlib.figure.Figure at 0x5fcb9748>"
      ]
     },
     "metadata": {},
     "output_type": "display_data"
    }
   ],
   "source": [
    "gen_uniform_histogram(1000,-1,-1/exp(5))"
   ]
  },
  {
   "cell_type": "code",
   "execution_count": 368,
   "metadata": {},
   "outputs": [],
   "source": [
    "from math import log\n",
    "\n",
    "def decay_cdf_inverse(x):\n",
    "    \n",
    "    return -log(-x)"
   ]
  },
  {
   "cell_type": "code",
   "execution_count": 369,
   "metadata": {},
   "outputs": [
    {
     "data": {
      "text/plain": [
       "[<matplotlib.lines.Line2D at 0x10811d68>]"
      ]
     },
     "execution_count": 369,
     "metadata": {},
     "output_type": "execute_result"
    },
    {
     "data": {
      "image/png": "[encoded data removed]",
      "text/plain": [
       "<matplotlib.figure.Figure at 0x107e5ba8>"
      ]
     },
     "metadata": {},
     "output_type": "display_data"
    }
   ],
   "source": [
    "y_samples = gen_uniform_samples(100000,-1,-1/exp(5))\n",
    "inverses = [decay_cdf_inverse(y) for y in y_samples]\n",
    "plt.hist(inverses,100,normed = True)\n",
    "x_values = np.linspace(0,5,1000)\n",
    "y_values = [exp(-x) for x in x_values]\n",
    "plt.plot(x_values,y_values)"
   ]
  },
  {
   "cell_type": "markdown",
   "metadata": {},
   "source": [
    "Second Method:"
   ]
  },
  {
   "cell_type": "code",
   "execution_count": 388,
   "metadata": {},
   "outputs": [],
   "source": [
    "def gen_dist_ARmethod(N,lower,upper,f):\n",
    "    \n",
    "    ensemble = []\n",
    "    x_samples = gen_uniform_samples(N,lower,upper)\n",
    "    y_samples = gen_uniform_samples(N,lower,upper)\n",
    "    samples = zip(x_samples,y_samples)\n",
    "    #print(samples)\n",
    "    for index,(x,y) in enumerate(samples):\n",
    "        if y <= f(x):\n",
    "            ensemble.append(x)\n",
    "               \n",
    "    return ensemble\n"
   ]
  },
  {
   "cell_type": "code",
   "execution_count": 394,
   "metadata": {},
   "outputs": [
    {
     "data": {
      "text/plain": [
       "[<matplotlib.lines.Line2D at 0x669c0f28>]"
      ]
     },
     "execution_count": 394,
     "metadata": {},
     "output_type": "execute_result"
    },
    {
     "data": {
      "image/png": "[encoded data removed]",
      "text/plain": [
       "<matplotlib.figure.Figure at 0x60ac7278>"
      ]
     },
     "metadata": {},
     "output_type": "display_data"
    }
   ],
   "source": [
    "ensemble = gen_dist_ARmethod(100000,0,5,lambda x: exp(-x))\n",
    "plt.hist(ensemble,100,normed = True)\n",
    "plt.plot(x_values,y_values)"
   ]
  },
  {
   "cell_type": "code",
   "execution_count": null,
   "metadata": {},
   "outputs": [],
   "source": []
  }
 ],
 "metadata": {
  "kernelspec": {
   "display_name": "Python 2",
   "language": "python",
   "name": "python2"
  },
  "language_info": {
   "codemirror_mode": {
    "name": "ipython",
    "version": 2
   },
   "file_extension": ".py",
   "mimetype": "text/x-python",
   "name": "python",
   "nbconvert_exporter": "python",
   "pygments_lexer": "ipython2",
   "version": "2.7.14"
  }
 },
 "nbformat": 4,
 "nbformat_minor": 2
}
